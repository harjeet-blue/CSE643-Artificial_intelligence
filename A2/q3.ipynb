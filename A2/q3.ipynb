{
 "cells": [
  {
   "cell_type": "code",
   "execution_count": 1,
   "metadata": {},
   "outputs": [],
   "source": [
    "import numpy as np\n",
    "import matplotlib.pyplot as plt\n",
    "import pandas as pd\n"
   ]
  },
  {
   "cell_type": "code",
   "execution_count": 2,
   "metadata": {},
   "outputs": [],
   "source": [
    "data = pd.read_csv('Road_Distance.csv')"
   ]
  },
  {
   "cell_type": "code",
   "execution_count": 4,
   "metadata": {},
   "outputs": [
    {
     "data": {
      "text/html": [
       "<div>\n",
       "<style scoped>\n",
       "    .dataframe tbody tr th:only-of-type {\n",
       "        vertical-align: middle;\n",
       "    }\n",
       "\n",
       "    .dataframe tbody tr th {\n",
       "        vertical-align: top;\n",
       "    }\n",
       "\n",
       "    .dataframe thead th {\n",
       "        text-align: right;\n",
       "    }\n",
       "</style>\n",
       "<table border=\"1\" class=\"dataframe\">\n",
       "  <thead>\n",
       "    <tr style=\"text-align: right;\">\n",
       "      <th></th>\n",
       "      <th>Distance in Kilometres</th>\n",
       "      <th>Ahmedabad</th>\n",
       "      <th>Bangalore</th>\n",
       "      <th>Bhubaneshwar</th>\n",
       "      <th>Bombay</th>\n",
       "      <th>Calcutta</th>\n",
       "      <th>Chandigarh</th>\n",
       "      <th>Cochin</th>\n",
       "      <th>Delhi</th>\n",
       "      <th>Hyderabad</th>\n",
       "      <th>...</th>\n",
       "      <th>Jaipur</th>\n",
       "      <th>Kanpur</th>\n",
       "      <th>Lucknow</th>\n",
       "      <th>Madras</th>\n",
       "      <th>Nagpur</th>\n",
       "      <th>Nasik</th>\n",
       "      <th>Panjim</th>\n",
       "      <th>Patna</th>\n",
       "      <th>Pondicherry</th>\n",
       "      <th>Pune</th>\n",
       "    </tr>\n",
       "  </thead>\n",
       "  <tbody>\n",
       "    <tr>\n",
       "      <th>0</th>\n",
       "      <td>Agartala</td>\n",
       "      <td>3305</td>\n",
       "      <td>3824</td>\n",
       "      <td>2286</td>\n",
       "      <td>3593</td>\n",
       "      <td>1863</td>\n",
       "      <td>2998</td>\n",
       "      <td>4304</td>\n",
       "      <td>2708</td>\n",
       "      <td>3330</td>\n",
       "      <td>...</td>\n",
       "      <td>2801</td>\n",
       "      <td>2281</td>\n",
       "      <td>2252</td>\n",
       "      <td>3493</td>\n",
       "      <td>2696</td>\n",
       "      <td>3365</td>\n",
       "      <td>3507</td>\n",
       "      <td>1681</td>\n",
       "      <td>3661</td>\n",
       "      <td>3442</td>\n",
       "    </tr>\n",
       "    <tr>\n",
       "      <th>1</th>\n",
       "      <td>Agra</td>\n",
       "      <td>878</td>\n",
       "      <td>1848</td>\n",
       "      <td>1578</td>\n",
       "      <td>1202</td>\n",
       "      <td>1300</td>\n",
       "      <td>448</td>\n",
       "      <td>2278</td>\n",
       "      <td>200</td>\n",
       "      <td>1246</td>\n",
       "      <td>...</td>\n",
       "      <td>230</td>\n",
       "      <td>290</td>\n",
       "      <td>369</td>\n",
       "      <td>2048</td>\n",
       "      <td>770</td>\n",
       "      <td>1005</td>\n",
       "      <td>1715</td>\n",
       "      <td>885</td>\n",
       "      <td>2210</td>\n",
       "      <td>1214</td>\n",
       "    </tr>\n",
       "    <tr>\n",
       "      <th>2</th>\n",
       "      <td>Ahmedabad</td>\n",
       "      <td>-</td>\n",
       "      <td>1490</td>\n",
       "      <td>1697</td>\n",
       "      <td>552</td>\n",
       "      <td>2068</td>\n",
       "      <td>1157</td>\n",
       "      <td>1845</td>\n",
       "      <td>911</td>\n",
       "      <td>1436</td>\n",
       "      <td>...</td>\n",
       "      <td>648</td>\n",
       "      <td>1168</td>\n",
       "      <td>1247</td>\n",
       "      <td>1821</td>\n",
       "      <td>965</td>\n",
       "      <td>504</td>\n",
       "      <td>1165</td>\n",
       "      <td>1656</td>\n",
       "      <td>1818</td>\n",
       "      <td>664</td>\n",
       "    </tr>\n",
       "    <tr>\n",
       "      <th>3</th>\n",
       "      <td>Allahabad</td>\n",
       "      <td>1251</td>\n",
       "      <td>1686</td>\n",
       "      <td>1090</td>\n",
       "      <td>1457</td>\n",
       "      <td>817</td>\n",
       "      <td>912</td>\n",
       "      <td>2216</td>\n",
       "      <td>650</td>\n",
       "      <td>1084</td>\n",
       "      <td>...</td>\n",
       "      <td>713</td>\n",
       "      <td>193</td>\n",
       "      <td>234</td>\n",
       "      <td>2011</td>\n",
       "      <td>608</td>\n",
       "      <td>1155</td>\n",
       "      <td>1419</td>\n",
       "      <td>402</td>\n",
       "      <td>1077</td>\n",
       "      <td>1364</td>\n",
       "    </tr>\n",
       "    <tr>\n",
       "      <th>4</th>\n",
       "      <td>Amritsar</td>\n",
       "      <td>1356</td>\n",
       "      <td>2496</td>\n",
       "      <td>2224</td>\n",
       "      <td>1849</td>\n",
       "      <td>1919</td>\n",
       "      <td>239</td>\n",
       "      <td>3163</td>\n",
       "      <td>445</td>\n",
       "      <td>1892</td>\n",
       "      <td>...</td>\n",
       "      <td>706</td>\n",
       "      <td>926</td>\n",
       "      <td>939</td>\n",
       "      <td>2688</td>\n",
       "      <td>1416</td>\n",
       "      <td>1665</td>\n",
       "      <td>2237</td>\n",
       "      <td>1531</td>\n",
       "      <td>2856</td>\n",
       "      <td>1862</td>\n",
       "    </tr>\n",
       "  </tbody>\n",
       "</table>\n",
       "<p>5 rows × 21 columns</p>\n",
       "</div>"
      ],
      "text/plain": [
       "  Distance in Kilometres Ahmedabad Bangalore Bhubaneshwar Bombay Calcutta  \\\n",
       "0               Agartala      3305      3824         2286   3593     1863   \n",
       "1                   Agra       878      1848         1578   1202     1300   \n",
       "2              Ahmedabad         -      1490         1697    552     2068   \n",
       "3              Allahabad      1251      1686         1090   1457      817   \n",
       "4               Amritsar      1356      2496         2224   1849     1919   \n",
       "\n",
       "  Chandigarh Cochin Delhi Hyderabad  ... Jaipur Kanpur Lucknow Madras Nagpur  \\\n",
       "0       2998   4304  2708      3330  ...   2801   2281    2252   3493   2696   \n",
       "1        448   2278   200      1246  ...    230    290     369   2048    770   \n",
       "2       1157   1845   911      1436  ...    648   1168    1247   1821    965   \n",
       "3        912   2216   650      1084  ...    713    193     234   2011    608   \n",
       "4        239   3163   445      1892  ...    706    926     939   2688   1416   \n",
       "\n",
       "  Nasik Panjim Patna Pondicherry  Pune  \n",
       "0  3365   3507  1681        3661  3442  \n",
       "1  1005   1715   885        2210  1214  \n",
       "2   504   1165  1656        1818   664  \n",
       "3  1155   1419   402        1077  1364  \n",
       "4  1665   2237  1531        2856  1862  \n",
       "\n",
       "[5 rows x 21 columns]"
      ]
     },
     "execution_count": 4,
     "metadata": {},
     "output_type": "execute_result"
    }
   ],
   "source": [
    "data.head()"
   ]
  },
  {
   "cell_type": "code",
   "execution_count": 26,
   "metadata": {},
   "outputs": [
    {
     "name": "stdout",
     "output_type": "stream",
     "text": [
      "{0: 'Agartala', 1: 'Agra', 2: 'Ahmedabad', 3: 'Allahabad', 4: 'Amritsar', 5: 'Asansol', 6: 'Bangalore', 7: 'Baroda', 8: 'Bhopal', 9: 'Bhubaneshwar', 10: 'Bombay', 11: 'Calcutta', 12: 'Calicut', 13: 'Chandigarh', 14: 'Cochin', 15: 'Coimbatore', 16: 'Delhi', 17: 'Gwalior', 18: 'Hubli', 19: 'Hyderabad', 20: 'Imphal', 21: 'Indore', 22: 'Jabalpur', 23: 'Jaipur', 24: 'Jamshedpur', 25: 'Jullundur', 26: 'Kanpur', 27: 'Kolhapur', 28: 'Lucknow', 29: 'Ludhiana', 30: 'Madras', 31: 'Madurai', 32: 'Meerut', 33: 'Nagpur', 34: 'Nasik', 35: 'Panjim', 36: 'Patna', 37: 'Pondicherry', 38: 'Pune', 39: 'Ranchi', 40: 'Shillong', 41: 'Shimla', 42: 'Surat', 43: 'Trivandrum', 44: 'Varanasi', 45: 'Vijayawada', 46: 'Vishakapatnam'}\n",
      "{'Agartala': 0, 'Agra': 1, 'Ahmedabad': 2, 'Allahabad': 3, 'Amritsar': 4, 'Asansol': 5, 'Bangalore': 6, 'Baroda': 7, 'Bhopal': 8, 'Bhubaneshwar': 9, 'Bombay': 10, 'Calcutta': 11, 'Calicut': 12, 'Chandigarh': 13, 'Cochin': 14, 'Coimbatore': 15, 'Delhi': 16, 'Gwalior': 17, 'Hubli': 18, 'Hyderabad': 19, 'Imphal': 20, 'Indore': 21, 'Jabalpur': 22, 'Jaipur': 23, 'Jamshedpur': 24, 'Jullundur': 25, 'Kanpur': 26, 'Kolhapur': 27, 'Lucknow': 28, 'Ludhiana': 29, 'Madras': 30, 'Madurai': 31, 'Meerut': 32, 'Nagpur': 33, 'Nasik': 34, 'Panjim': 35, 'Patna': 36, 'Pondicherry': 37, 'Pune': 38, 'Ranchi': 39, 'Shillong': 40, 'Shimla': 41, 'Surat': 42, 'Trivandrum': 43, 'Varanasi': 44, 'Vijayawada': 45, 'Vishakapatnam': 46}\n"
     ]
    }
   ],
   "source": [
    "label_to_city = data.iloc[:, 0].to_dict()\n",
    "print(label_to_city)\n",
    "\n",
    "city_to_label = {v: k for k, v in label_to_city.items()}\n",
    "print(city_to_label)"
   ]
  },
  {
   "cell_type": "code",
   "execution_count": 10,
   "metadata": {},
   "outputs": [
    {
     "data": {
      "text/plain": [
       "(47, 47)"
      ]
     },
     "execution_count": 10,
     "metadata": {},
     "output_type": "execute_result"
    }
   ],
   "source": [
    "graph = np.zeros((len(city_to_label), len(city_to_label)))\n",
    "graph.shape"
   ]
  },
  {
   "cell_type": "code",
   "execution_count": 17,
   "metadata": {},
   "outputs": [
    {
     "data": {
      "text/plain": [
       "array([[   0.,    0., 3305., ...,    0.,    0.,    0.],\n",
       "       [   0.,    0.,  878., ...,    0.,    0.,    0.],\n",
       "       [   0.,    0.,    0., ...,    0.,    0.,    0.],\n",
       "       ...,\n",
       "       [   0.,    0., 1373., ...,    0.,    0.,    0.],\n",
       "       [   0.,    0., 1705., ...,    0.,    0.,    0.],\n",
       "       [   0.,    0., 1815., ...,    0.,    0.,    0.]])"
      ]
     },
     "execution_count": 17,
     "metadata": {},
     "output_type": "execute_result"
    }
   ],
   "source": [
    "for index, row in data.iterrows():\n",
    "    for column, value in row.items():\n",
    "        \n",
    "        if column != 'Distance in Kilometres' and value != '-':\n",
    "            graph[index, city_to_label[column]] = int(value)\n"
   ]
  },
  {
   "cell_type": "code",
   "execution_count": 21,
   "metadata": {},
   "outputs": [
    {
     "data": {
      "text/plain": [
       "0.0"
      ]
     },
     "execution_count": 21,
     "metadata": {},
     "output_type": "execute_result"
    }
   ],
   "source": [
    "graph[5][5]"
   ]
  },
  {
   "cell_type": "markdown",
   "metadata": {},
   "source": [
    "### UNIFROM COST SEARCH"
   ]
  },
  {
   "cell_type": "code",
   "execution_count": 27,
   "metadata": {},
   "outputs": [],
   "source": [
    "import heapq\n",
    "\n",
    "def uniormCostSearch(graph, source, dest):\n",
    "    n = len(graph)\n",
    "    dist = [float('inf')] * n\n",
    "    prev = [None] * n\n",
    "    visited = [False] * n\n",
    "    dist[source] = 0\n",
    "    heap = [(0, source)]\n",
    "    \n",
    "    while heap:\n",
    "        (d, u) = heapq.heappop(heap)\n",
    "        if visited[u]:\n",
    "            continue\n",
    "        visited[u] = True\n",
    "        \n",
    "        if u == dest:\n",
    "            path = []\n",
    "            while prev[u] is not None:\n",
    "                path.append(label_to_city[u])\n",
    "                u = prev[u]\n",
    "\n",
    "            path.append(label_to_city[source])\n",
    "            path.reverse()\n",
    "            return dist[dest], path\n",
    "        \n",
    "        for v in range(n):\n",
    "            if graph[u][v] != 0:\n",
    "                alt = dist[u] + graph[u][v]\n",
    "                if alt < dist[v]:\n",
    "                    dist[v] = alt\n",
    "                    prev[v] = u\n",
    "                    heapq.heappush(heap, (dist[v], v))\n",
    "    \n",
    "    return float('inf'), ['No path found']\n"
   ]
  },
  {
   "cell_type": "code",
   "execution_count": 28,
   "metadata": {},
   "outputs": [
    {
     "data": {
      "text/plain": [
       "(1257.0, ['Bombay', 'Indore', 'Jaipur', 'Delhi'])"
      ]
     },
     "execution_count": 28,
     "metadata": {},
     "output_type": "execute_result"
    }
   ],
   "source": [
    "uniormCostSearch(graph, city_to_label['Bombay'], city_to_label['Delhi'])"
   ]
  },
  {
   "cell_type": "markdown",
   "metadata": {},
   "source": [
    "### A* With admissible(Straigh line distance heuristic)"
   ]
  },
  {
   "cell_type": "code",
   "execution_count": 29,
   "metadata": {},
   "outputs": [],
   "source": [
    "heuristic = np.zeros((len(city_to_label), len(city_to_label)))"
   ]
  },
  {
   "cell_type": "code",
   "execution_count": 30,
   "metadata": {},
   "outputs": [
    {
     "data": {
      "text/html": [
       "<div>\n",
       "<style scoped>\n",
       "    .dataframe tbody tr th:only-of-type {\n",
       "        vertical-align: middle;\n",
       "    }\n",
       "\n",
       "    .dataframe tbody tr th {\n",
       "        vertical-align: top;\n",
       "    }\n",
       "\n",
       "    .dataframe thead th {\n",
       "        text-align: right;\n",
       "    }\n",
       "</style>\n",
       "<table border=\"1\" class=\"dataframe\">\n",
       "  <thead>\n",
       "    <tr style=\"text-align: right;\">\n",
       "      <th></th>\n",
       "      <th>agartala</th>\n",
       "      <th>agartala.1</th>\n",
       "      <th>0</th>\n",
       "    </tr>\n",
       "  </thead>\n",
       "  <tbody>\n",
       "    <tr>\n",
       "      <th>0</th>\n",
       "      <td>agartala</td>\n",
       "      <td>agra</td>\n",
       "      <td>2516</td>\n",
       "    </tr>\n",
       "    <tr>\n",
       "      <th>1</th>\n",
       "      <td>agartala</td>\n",
       "      <td>ahmedabad</td>\n",
       "      <td>3255</td>\n",
       "    </tr>\n",
       "    <tr>\n",
       "      <th>2</th>\n",
       "      <td>agartala</td>\n",
       "      <td>allahabad</td>\n",
       "      <td>2033</td>\n",
       "    </tr>\n",
       "    <tr>\n",
       "      <th>3</th>\n",
       "      <td>agartala</td>\n",
       "      <td>amritsar</td>\n",
       "      <td>3101</td>\n",
       "    </tr>\n",
       "    <tr>\n",
       "      <th>4</th>\n",
       "      <td>agartala</td>\n",
       "      <td>asansol</td>\n",
       "      <td>2026</td>\n",
       "    </tr>\n",
       "  </tbody>\n",
       "</table>\n",
       "</div>"
      ],
      "text/plain": [
       "   agartala agartala.1     0\n",
       "0  agartala       agra  2516\n",
       "1  agartala  ahmedabad  3255\n",
       "2  agartala  allahabad  2033\n",
       "3  agartala   amritsar  3101\n",
       "4  agartala    asansol  2026"
      ]
     },
     "execution_count": 30,
     "metadata": {},
     "output_type": "execute_result"
    }
   ],
   "source": [
    "dheuristic = pd.read_csv('heuristic.csv')\n",
    "dheuristic.head()"
   ]
  },
  {
   "cell_type": "code",
   "execution_count": 33,
   "metadata": {},
   "outputs": [
    {
     "data": {
      "text/plain": [
       "array([[   0., 2516., 3255., ..., 1911., 3011., 2681.],\n",
       "       [2516.,    0.,  828., ...,  555., 1462., 1630.],\n",
       "       [3255.,  828.,    0., ..., 1317., 1428., 1747.],\n",
       "       ...,\n",
       "       [1911.,  555., 1317., ...,    0., 1405., 1363.],\n",
       "       [3011., 1462., 1428., ..., 1405.,    0.,  818.],\n",
       "       [2681., 1630., 1747., ..., 1363.,  818.,    0.]])"
      ]
     },
     "execution_count": 33,
     "metadata": {},
     "output_type": "execute_result"
    }
   ],
   "source": [
    "for index, row in dheuristic.iterrows():\n",
    "    row_tuple = tuple(row)\n",
    "    heuristic[city_to_label[row_tuple[0].capitalize()], city_to_label[row_tuple[1].capitalize()]] = row_tuple[2]\n",
    "\n",
    "heuristic"
   ]
  },
  {
   "cell_type": "code",
   "execution_count": 34,
   "metadata": {},
   "outputs": [],
   "source": [
    "def astar(graph, heuristic, source, dest):\n",
    "    n = len(graph)\n",
    "    dist = [float('inf')] * n\n",
    "    prev = [None] * n\n",
    "    visited = [False] * n\n",
    "    dist[source] = 0\n",
    "    heap = [(0, source)]\n",
    "    \n",
    "    while heap:\n",
    "        (d, u) = heapq.heappop(heap)\n",
    "        if visited[u]:\n",
    "            continue\n",
    "        visited[u] = True\n",
    "        \n",
    "        if u == dest:\n",
    "            path = []\n",
    "            while prev[u] is not None:\n",
    "                path.append(label_to_city[u])\n",
    "                u = prev[u]\n",
    "\n",
    "            path.append(label_to_city[source])\n",
    "            path.reverse()\n",
    "            return dist[dest], path\n",
    "        \n",
    "        for v in range(n):\n",
    "            if graph[u][v] != 0:\n",
    "                alt = dist[u] + graph[u][v]\n",
    "                if alt < dist[v]:\n",
    "                    dist[v] = alt\n",
    "                    prev[v] = u\n",
    "                    heapq.heappush(heap, (dist[v] + heuristic[v][dest], v))\n",
    "    \n",
    "    return float('inf'), ['No path found']\n"
   ]
  },
  {
   "cell_type": "code",
   "execution_count": 36,
   "metadata": {},
   "outputs": [
    {
     "data": {
      "text/plain": [
       "(1257.0, ['Bombay', 'Indore', 'Jaipur', 'Delhi'])"
      ]
     },
     "execution_count": 36,
     "metadata": {},
     "output_type": "execute_result"
    }
   ],
   "source": [
    "astar(graph,heuristic ,city_to_label['Bombay'], city_to_label['Delhi'])"
   ]
  },
  {
   "cell_type": "markdown",
   "metadata": {},
   "source": [
    "### A* with inadmissible search"
   ]
  },
  {
   "cell_type": "code",
   "execution_count": 37,
   "metadata": {},
   "outputs": [],
   "source": [
    "import random\n",
    "\n",
    "def astar2(graph, heuristic, source, dest):\n",
    "    n = len(graph)\n",
    "    dist = [float('inf')] * n\n",
    "    prev = [None] * n\n",
    "    visited = [False] * n\n",
    "    dist[source] = 0\n",
    "    heap = [(0, source)]\n",
    "    \n",
    "    while heap:\n",
    "        (d, u) = heapq.heappop(heap)\n",
    "        if visited[u]:\n",
    "            continue\n",
    "        visited[u] = True\n",
    "        \n",
    "        if u == dest:\n",
    "            path = []\n",
    "            while prev[u] is not None:\n",
    "                path.append(label_to_city[u])\n",
    "                u = prev[u]\n",
    "\n",
    "            path.append(label_to_city[source])\n",
    "            path.reverse()\n",
    "            return dist[dest], path\n",
    "        \n",
    "        for v in range(n):\n",
    "            if graph[u][v] != 0:\n",
    "                alt = dist[u] + graph[u][v]\n",
    "                if alt < dist[v]:\n",
    "                    dist[v] = alt\n",
    "                    prev[v] = u\n",
    "                    interm = random.randint(0, 46)\n",
    "                    heapq.heappush(heap, (dist[v] + heuristic[v][interm] + heuristic[interm][dest], v))\n",
    "\n",
    "    return float('inf'), ['No path found']\n"
   ]
  },
  {
   "cell_type": "code",
   "execution_count": 38,
   "metadata": {},
   "outputs": [
    {
     "data": {
      "text/plain": [
       "(1395.0, ['Bombay', 'Indore', 'Delhi'])"
      ]
     },
     "execution_count": 38,
     "metadata": {},
     "output_type": "execute_result"
    }
   ],
   "source": [
    "astar2(graph,heuristic ,city_to_label['Bombay'], city_to_label['Delhi'])"
   ]
  }
 ],
 "metadata": {
  "kernelspec": {
   "display_name": "Python 3",
   "language": "python",
   "name": "python3"
  },
  "language_info": {
   "codemirror_mode": {
    "name": "ipython",
    "version": 3
   },
   "file_extension": ".py",
   "mimetype": "text/x-python",
   "name": "python",
   "nbconvert_exporter": "python",
   "pygments_lexer": "ipython3",
   "version": "3.8.10"
  }
 },
 "nbformat": 4,
 "nbformat_minor": 2
}
